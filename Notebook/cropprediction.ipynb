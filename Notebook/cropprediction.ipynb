{
 "cells": [
  {
   "cell_type": "code",
   "execution_count": null,
   "id": "b336bc0f",
   "metadata": {},
   "outputs": [],
   "source": [
    "import numpy as np\n",
    "import pandas as pd\n",
    "import matplotlib.pyplot as plt\n",
    "import seaborn as sns\n"
   ]
  },
  {
   "cell_type": "code",
   "execution_count": null,
   "id": "7716cb8a",
   "metadata": {},
   "outputs": [],
   "source": [
    "df=pd.read_csv('crop.csv')"
   ]
  },
  {
   "cell_type": "code",
   "execution_count": null,
   "id": "49da1d93",
   "metadata": {},
   "outputs": [],
   "source": [
    "df.describe()"
   ]
  },
  {
   "cell_type": "code",
   "execution_count": null,
   "id": "30edea44",
   "metadata": {},
   "outputs": [],
   "source": [
    "df.head(200)"
   ]
  },
  {
   "cell_type": "code",
   "execution_count": null,
   "id": "32aa049b",
   "metadata": {},
   "outputs": [],
   "source": [
    "print(\"The shape of this data set is \",df.shape)"
   ]
  },
  {
   "cell_type": "code",
   "execution_count": null,
   "id": "ab582f75",
   "metadata": {},
   "outputs": [],
   "source": [
    "# checking for null | NAN Values\n",
    "\n",
    "df.isnull().sum()\n",
    "# it is not having any non values so it quite good"
   ]
  },
  {
   "cell_type": "code",
   "execution_count": null,
   "id": "c1194818",
   "metadata": {},
   "outputs": [],
   "source": [
    "#checking for whichs crops are present in dataset\n",
    "df['label'].value_counts()"
   ]
  },
  {
   "cell_type": "code",
   "execution_count": null,
   "id": "c01860a2",
   "metadata": {},
   "outputs": [],
   "source": [
    "sns.barplot(data=df, x='N',y='label')\n",
    "\n",
    "\n"
   ]
  },
  {
   "cell_type": "code",
   "execution_count": null,
   "id": "ef0546fe",
   "metadata": {},
   "outputs": [],
   "source": [
    "sns.barplot(data=df, x='P',y='label')\n"
   ]
  },
  {
   "cell_type": "code",
   "execution_count": null,
   "id": "a469b174",
   "metadata": {},
   "outputs": [],
   "source": [
    "sns.barplot(data=df, x='K',y='label')\n"
   ]
  },
  {
   "cell_type": "code",
   "execution_count": null,
   "id": "9ce5d75d",
   "metadata": {},
   "outputs": [],
   "source": []
  },
  {
   "cell_type": "code",
   "execution_count": null,
   "id": "b784f077",
   "metadata": {},
   "outputs": [],
   "source": [
    "plt.rcParams['figure.figsize'] = (15, 7)\n",
    "\n",
    "plt.subplot(2, 4, 1)\n",
    "sns.distplot(df['N'], color = 'lightgrey')\n",
    "plt.xlabel('Ratio of Nitrogen', fontsize = 12)\n",
    "plt.grid()\n",
    "\n",
    "plt.subplot(2, 4, 2)\n",
    "sns.distplot(df['P'], color = 'skyblue')\n",
    "plt.xlabel('Ratio of Phosphorous', fontsize = 12)\n",
    "plt.grid()\n",
    "\n",
    "plt.subplot(2, 4, 3)\n",
    "sns.distplot(df['K'], color ='darkblue')\n",
    "plt.xlabel('Ratio of Potassium', fontsize = 12)\n",
    "plt.grid()\n",
    "plt.subplot(2, 4, 4)\n",
    "sns.distplot(df['temperature'], color = 'black')\n",
    "plt.xlabel('Temperature', fontsize = 12)\n",
    "plt.grid()\n",
    "\n",
    "plt.subplot(2, 4, 5)\n",
    "sns.distplot(df['rainfall'], color = 'grey')\n",
    "plt.xlabel('Rainfall', fontsize = 12)\n",
    "plt.grid()\n",
    "\n",
    "plt.subplot(2, 4, 6)\n",
    "sns.distplot(df['humidity'], color = 'lightgreen')\n",
    "plt.xlabel('Humidity', fontsize = 12)\n",
    "plt.grid()\n",
    "\n",
    "plt.subplot(2, 4, 7)\n",
    "sns.distplot(df['ph'], color = 'darkgreen')\n",
    "plt.xlabel('pH Level', fontsize = 12)\n",
    "plt.grid()\n",
    "\n",
    "plt.suptitle('Distribution for Agricultural Conditions', fontsize = 20)\n",
    "plt.show()"
   ]
  },
  {
   "cell_type": "code",
   "execution_count": null,
   "id": "c4310d91",
   "metadata": {},
   "outputs": [],
   "source": [
    "sns.jointplot(x='N',y='humidity',data=df )"
   ]
  },
  {
   "cell_type": "code",
   "execution_count": null,
   "id": "9fbde731",
   "metadata": {},
   "outputs": [],
   "source": [
    "sns.jointplot(x='P',y='humidity',data=df )"
   ]
  },
  {
   "cell_type": "code",
   "execution_count": null,
   "id": "f0e3af08",
   "metadata": {},
   "outputs": [],
   "source": [
    "sns.jointplot(x='K',y='humidity',data=df )"
   ]
  },
  {
   "cell_type": "code",
   "execution_count": null,
   "id": "34906c5e",
   "metadata": {},
   "outputs": [],
   "source": [
    "\n",
    "#on, Winter Season and Rainy Season\n",
    "\n",
    "print(\"Summer Crops\")\n",
    "print(df[(df['temperature'] > 30) & (df['humidity'] > 50)]['label'].unique())\n",
    "print(\"-----------------------------------\")\n",
    "print(\"Winter Crops\")\n",
    "print(df[(df['temperature'] < 20) & (df['humidity'] > 30)]['label'].unique())\n",
    "print(\"-----------------------------------\")\n",
    "print(\"Rainy Crops\")\n",
    "print(df[(df['rainfall'] > 200) & (df['humidity'] > 30)]['label'].unique())"
   ]
  },
  {
   "cell_type": "code",
   "execution_count": null,
   "id": "793436fd",
   "metadata": {},
   "outputs": [],
   "source": [
    "sns.pairplot(df, hue='label')"
   ]
  },
  {
   "cell_type": "code",
   "execution_count": null,
   "id": "20c5957d",
   "metadata": {},
   "outputs": [],
   "source": [
    "#selecting indpendent feature like nitrogen, phosophorus , postassium, temperature rainfall\n",
    "#selection dependent features like crop(label)\n",
    "\n",
    "y = df['label']\n",
    "x = df.drop(['label'], axis = 1)"
   ]
  },
  {
   "cell_type": "code",
   "execution_count": null,
   "id": "0649378e",
   "metadata": {},
   "outputs": [],
   "source": [
    "print(\"Shape of x:\", x.shape)\n",
    "print(\"Shape of y:\", y.shape)"
   ]
  },
  {
   "cell_type": "code",
   "execution_count": null,
   "id": "79e06aea",
   "metadata": {},
   "outputs": [],
   "source": [
    "from sklearn.neighbors import KNeighborsClassifier\n",
    "from sklearn.tree import DecisionTreeClassifier\n",
    "from sklearn.ensemble import RandomForestClassifier\n",
    "from sklearn.ensemble import BaggingClassifier\n",
    "from sklearn.ensemble import GradientBoostingClassifier\n",
    "from sklearn.ensemble import AdaBoostClassifier\n",
    "from xgboost import XGBClassifier\n",
    "import xgboost as xgb\n",
    "from sklearn.metrics import classification_report\n",
    "from sklearn.metrics import accuracy_score,confusion_matrix,roc_auc_score\n"
   ]
  },
  {
   "cell_type": "code",
   "execution_count": null,
   "id": "40bff302",
   "metadata": {},
   "outputs": [],
   "source": [
    "from sklearn.model_selection import train_test_split\n",
    "#Solitting up the dataset into train and test dataset with ratio of 60:40\n",
    "x_train, x_test, y_train, y_test = train_test_split(x, y, test_size = 0.4, random_state =0)"
   ]
  },
  {
   "cell_type": "code",
   "execution_count": null,
   "id": "14e34b36",
   "metadata": {},
   "outputs": [],
   "source": [
    "#Printing the shape of the test and train model\n",
    "\n",
    "print(\"The Shape of x train:\", x_train.shape)\n",
    "print(\"The Shape of x test:\", x_test.shape)\n",
    "print(\"The Shape of y train:\", y_train.shape)\n",
    "print(\"The Shape of y test:\", y_test.shape)"
   ]
  },
  {
   "cell_type": "code",
   "execution_count": null,
   "id": "66cee4b2",
   "metadata": {},
   "outputs": [],
   "source": [
    "#Using Strafied Cross-Fold Validation for a selection of data in a efficient way\n",
    "\n",
    "import numpy as np\n",
    "from sklearn.model_selection import StratifiedKFold\n",
    "\n",
    "from sklearn.model_selection import cross_val_score\n",
    "\n",
    "\n",
    "K=StratifiedKFold(n_splits=10)\n",
    "models = {\n",
    "          \"KNN\" : KNeighborsClassifier(),\n",
    "          \"DT\" : DecisionTreeClassifier(),\n",
    "          'RFC' : RandomForestClassifier(),\n",
    "          'GBC' : GradientBoostingClassifier(),\n",
    "          'XGB' : XGBClassifier()\n",
    "          }\n",
    "\n",
    "\n",
    "model_accuracy = pd.DataFrame(columns=['Model','Accuracy'])\n",
    "\n",
    "\n",
    "for test, clf in models.items():\n",
    "    if test == 'XGB' or test=='GBC':\n",
    "        continue\n",
    "\n",
    "    result=cross_val_score(clf,x_train,y_train,cv=K)\n",
    "    print(test)\n",
    "    print(result)\n",
    "    print(\"Minimum value: \",np.min(result))\n",
    "    print(\"Maximum value: \",np.max(result))\n",
    "    print(\"Average: \",np.mean(result))\n",
    "    print('\\n')\n",
    "\n"
   ]
  },
  {
   "cell_type": "code",
   "execution_count": null,
   "id": "8dd8a0ab",
   "metadata": {},
   "outputs": [],
   "source": [
    "for test, clf in models.items():\n",
    "    clf.fit(x_train, y_train)\n",
    "    y_pred = clf.predict(x_test)\n",
    "    acc = accuracy_score(y_test,y_pred)\n",
    "    train_pred = clf.predict(x_train)\n",
    "    train_acc = accuracy_score(y_train, train_pred)\n",
    "    print(\"\\n\", test + ' scores')\n",
    "    print(acc)\n",
    "    model_accuracy = model_accuracy.append({'Model': test, 'Accuracy': acc, 'Train_acc': train_acc}, ignore_index=True)\n"
   ]
  },
  {
   "cell_type": "code",
   "execution_count": null,
   "id": "884ec2ed",
   "metadata": {},
   "outputs": [],
   "source": [
    "model_accuracy"
   ]
  },
  {
   "cell_type": "code",
   "execution_count": null,
   "id": "3b4b77dc",
   "metadata": {},
   "outputs": [],
   "source": [
    "model_accuracy.sort_values(ascending=False, by = 'Accuracy')"
   ]
  },
  {
   "cell_type": "code",
   "execution_count": null,
   "id": "7646ec33",
   "metadata": {},
   "outputs": [],
   "source": [
    "\n",
    "\n",
    "accuracy_rate=[]\n",
    "for i in range(1,40):\n",
    "    \n",
    "    knn=KNeighborsClassifier(n_neighbors=i)\n",
    "    score=cross_val_score(knn,x_train,y_train,cv=10)\n",
    "    accuracy_rate.append(score.mean())"
   ]
  },
  {
   "cell_type": "code",
   "execution_count": null,
   "id": "7a6bc034",
   "metadata": {},
   "outputs": [],
   "source": [
    "error_rate=[]\n",
    "for i in range(1,40):\n",
    "    \n",
    "    knn=KNeighborsClassifier(n_neighbors=i)\n",
    "    score=cross_val_score(knn,x_train,y_train,cv=10)\n",
    "    error_rate.append(1-score.mean())"
   ]
  },
  {
   "cell_type": "code",
   "execution_count": null,
   "id": "97f3d2bc",
   "metadata": {},
   "outputs": [],
   "source": [
    "plt.figure(figsize=(12,6))\n",
    "plt.plot(range(1,40),error_rate,color='blue',linestyle='dashed',marker='o',markerfacecolor='red',markersize=10)\n",
    "plt.title('Error rate vs  K Value')\n",
    "plt.xlabel('K')\n",
    "plt.ylabel('Error rate')"
   ]
  },
  {
   "cell_type": "code",
   "execution_count": null,
   "id": "b9a87b3d",
   "metadata": {},
   "outputs": [],
   "source": [
    "\n",
    "knn=KNeighborsClassifier(n_neighbors=4)\n",
    "knn.fit(x_train,y_train)\n",
    "y_pred = knn.predict(x_test)\n",
    "acc=accuracy_score(y_test,y_pred)\n",
    "acc\n",
    "\n",
    "\n",
    "#Since the error rate is incresing and it also tends to underfit the data ,hence it is not used"
   ]
  },
  {
   "cell_type": "code",
   "execution_count": null,
   "id": "be391ae4",
   "metadata": {},
   "outputs": [],
   "source": [
    "from sklearn.model_selection import GridSearchCV\n",
    "from sklearn.metrics import accuracy_score, classification_report\n",
    "RFC=RandomForestClassifier()\n",
    "params = {\n",
    "    'n_estimators':[300,400,500],\n",
    "    'max_depth':[5,10,15],\n",
    "    'min_samples_split':[2,5,8]\n",
    "}\n",
    "grid_rand = GridSearchCV(RFC,params,cv=3,verbose=3,n_jobs=-1)\n",
    "\n",
    "grid_rand.fit(x_train,y_train)\n",
    "\n",
    "pred_rand = grid_rand.predict(x_test)\n",
    "\n",
    "print(classification_report(y_test,pred_rand))\n",
    "\n",
    "print('Best score : ',grid_rand.best_score_)\n",
    "print('Best params : ',grid_rand.best_params_)"
   ]
  },
  {
   "cell_type": "code",
   "execution_count": null,
   "id": "7c110dc3",
   "metadata": {},
   "outputs": [],
   "source": [
    "#from the model accuracy table we conclude the the maximun accuracy is of decision tree classifer and we choose for our model\n",
    "\n",
    "RFC=RandomForestClassifier(max_depth=10,min_samples_split=8,n_estimators=5)\n",
    "RFC.fit(x_train,y_train)\n",
    "y_pred = RFC.predict(x_test)\n",
    "acc=accuracy_score(y_test,y_pred)\n",
    "acc\n"
   ]
  },
  {
   "cell_type": "code",
   "execution_count": null,
   "id": "737eb10a",
   "metadata": {},
   "outputs": [],
   "source": [
    "# now lets do some boosting like XGBoost to prevent the overfitting pf data\n",
    "\n",
    "XGB=XGBClassifier()\n",
    "XGB.fit(x_train,y_train)\n",
    "y_pred = XGB.predict(x_test)\n",
    "acc=accuracy_score(y_test,y_pred)\n",
    "print('Accuracy',acc*100)"
   ]
  },
  {
   "cell_type": "code",
   "execution_count": null,
   "id": "02326a9b",
   "metadata": {},
   "outputs": [],
   "source": [
    "prediction = XGB.predict((np.array([[20,\n",
    "                                       30,\n",
    "                                       50,\n",
    "                                       15,\n",
    "                                       80,\n",
    "                                       9.5,\n",
    "                                       100]])))\n",
    "print(\"The Suggested Crop is:\", prediction)"
   ]
  },
  {
   "cell_type": "code",
   "execution_count": null,
   "id": "7194c39c",
   "metadata": {},
   "outputs": [],
   "source": [
    "import pickle\n",
    "file=open(\"crops.pkl\",'wb')\n",
    "pickle.dump(XGB, file)"
   ]
  },
  {
   "cell_type": "code",
   "execution_count": null,
   "id": "c2aadb77",
   "metadata": {},
   "outputs": [],
   "source": []
  }
 ],
 "metadata": {
  "kernelspec": {
   "display_name": "Python 3 (ipykernel)",
   "language": "python",
   "name": "python3"
  },
  "language_info": {
   "codemirror_mode": {
    "name": "ipython",
    "version": 3
   },
   "file_extension": ".py",
   "mimetype": "text/x-python",
   "name": "python",
   "nbconvert_exporter": "python",
   "pygments_lexer": "ipython3",
   "version": "3.9.6"
  }
 },
 "nbformat": 4,
 "nbformat_minor": 5
}
